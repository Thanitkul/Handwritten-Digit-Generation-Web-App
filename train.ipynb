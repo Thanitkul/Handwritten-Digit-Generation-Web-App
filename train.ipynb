{
 "cells": [
  {
   "cell_type": "markdown",
   "id": "ea4bc307",
   "metadata": {},
   "source": [
    "# Trains a GAN from scratch on MNIST dataset using PyTorch.\n",
    "# Generator is conditioned on digit label.\n"
   ]
  },
  {
   "cell_type": "code",
   "execution_count": null,
   "id": "7412cf68",
   "metadata": {
    "vscode": {
     "languageId": "plaintext"
    }
   },
   "outputs": [],
   "source": [
    "import torch\n",
    "import torch.nn as nn\n",
    "from torchvision import datasets, transforms\n",
    "from torch.utils.data import DataLoader\n",
    "import os"
   ]
  },
  {
   "cell_type": "code",
   "execution_count": null,
   "id": "329bc829",
   "metadata": {
    "vscode": {
     "languageId": "plaintext"
    }
   },
   "outputs": [],
   "source": [
    "device = torch.device(\"cuda\" if torch.cuda.is_available() else \"cpu\")"
   ]
  },
  {
   "cell_type": "code",
   "execution_count": null,
   "id": "85763a19",
   "metadata": {
    "vscode": {
     "languageId": "plaintext"
    }
   },
   "outputs": [],
   "source": [
    "class Generator(nn.Module):\n",
    "    def __init__(self, latent_dim, num_classes):\n",
    "        super().__init__()\n",
    "        self.label_emb = nn.Embedding(num_classes, num_classes)\n",
    "        self.model = nn.Sequential(\n",
    "            nn.Linear(latent_dim + num_classes, 128),\n",
    "            nn.ReLU(),\n",
    "            nn.Linear(128, 256),\n",
    "            nn.BatchNorm1d(256),\n",
    "            nn.ReLU(),\n",
    "            nn.Linear(256, 28*28),\n",
    "            nn.Tanh()\n",
    "        )\n",
    "\n",
    "    def forward(self, z, labels):\n",
    "        input = torch.cat((z, self.label_emb(labels)), dim=1)\n",
    "        img = self.model(input)\n",
    "        return img.view(-1, 1, 28, 28)"
   ]
  },
  {
   "cell_type": "code",
   "execution_count": null,
   "id": "48e2dbfd",
   "metadata": {
    "vscode": {
     "languageId": "plaintext"
    }
   },
   "outputs": [],
   "source": [
    "class Discriminator(nn.Module):\n",
    "    def __init__(self, num_classes):\n",
    "        super().__init__()\n",
    "        self.label_emb = nn.Embedding(num_classes, num_classes)\n",
    "        self.model = nn.Sequential(\n",
    "            nn.Linear(28*28 + num_classes, 256),\n",
    "            nn.LeakyReLU(0.2),\n",
    "            nn.Linear(256, 1),\n",
    "            nn.Sigmoid()\n",
    "        )\n",
    "\n",
    "    def forward(self, x, labels):\n",
    "        x = x.view(x.size(0), -1)\n",
    "        input = torch.cat((x, self.label_emb(labels)), dim=1)\n",
    "        return self.model(input)"
   ]
  },
  {
   "cell_type": "code",
   "execution_count": null,
   "id": "2c07c84d",
   "metadata": {
    "vscode": {
     "languageId": "plaintext"
    }
   },
   "outputs": [],
   "source": [
    "\n",
    "os.makedirs(\"models\", exist_ok=True)\n",
    "latent_dim = 100\n",
    "num_classes = 10\n",
    "epochs = 10\n",
    "batch_size = 64\n",
    "\n",
    "transform = transforms.Compose([\n",
    "    transforms.ToTensor(),\n",
    "    transforms.Normalize([0.5], [0.5])\n",
    "])\n",
    "data = datasets.MNIST(root=\"data\", train=True, download=True, transform=transform)\n",
    "loader = DataLoader(data, batch_size=batch_size, shuffle=True)\n",
    "\n",
    "G = Generator(latent_dim, num_classes).to(device)\n",
    "D = Discriminator(num_classes).to(device)\n",
    "loss_fn = nn.BCELoss()\n",
    "opt_G = torch.optim.Adam(G.parameters(), lr=0.0002)\n",
    "opt_D = torch.optim.Adam(D.parameters(), lr=0.0002)\n",
    "\n",
    "for epoch in range(epochs):\n",
    "    for imgs, labels in loader:\n",
    "        imgs, labels = imgs.to(device), labels.to(device)\n",
    "        valid = torch.ones(imgs.size(0), 1).to(device)\n",
    "        fake = torch.zeros(imgs.size(0), 1).to(device)\n",
    "\n",
    "        z = torch.randn(imgs.size(0), latent_dim).to(device)\n",
    "        gen_labels = torch.randint(0, num_classes, (imgs.size(0),)).to(device)\n",
    "        gen_imgs = G(z, gen_labels)\n",
    "\n",
    "        # Train Discriminator\n",
    "        real_loss = loss_fn(D(imgs, labels), valid)\n",
    "        fake_loss = loss_fn(D(gen_imgs.detach(), gen_labels), fake)\n",
    "        D_loss = (real_loss + fake_loss) / 2\n",
    "        opt_D.zero_grad(); D_loss.backward(); opt_D.step()\n",
    "\n",
    "        # Train Generator\n",
    "        G_loss = loss_fn(D(gen_imgs, gen_labels), valid)\n",
    "        opt_G.zero_grad(); G_loss.backward(); opt_G.step()\n",
    "\n",
    "    print(f\"Epoch {epoch+1}/{epochs} - D_loss: {D_loss.item():.4f} - G_loss: {G_loss.item():.4f}\")\n",
    "\n",
    "torch.save(G.state_dict(), \"models/generator.pth\")"
   ]
  },
  {
   "cell_type": "code",
   "execution_count": null,
   "id": "dcfc2223",
   "metadata": {
    "vscode": {
     "languageId": "plaintext"
    }
   },
   "outputs": [],
   "source": [
    "# Generate test images\n",
    "z = torch.randn(5, latent_dim).to(device)\n",
    "digit = torch.tensor([5]*5).to(device)  # example: generate digit '5'\n",
    "samples = G(z, digit)"
   ]
  },
  {
   "cell_type": "code",
   "execution_count": null,
   "id": "fd81b3a0",
   "metadata": {},
   "outputs": [],
   "source": [
    "import matplotlib.pyplot as plt\n",
    "\n",
    "for i in range(5):\n",
    "    plt.subplot(1, 5, i+1)\n",
    "    plt.imshow(samples[i].detach().cpu().squeeze(), cmap='gray')\n",
    "    plt.axis('off')\n",
    "plt.show()\n"
   ]
  }
 ],
 "metadata": {
  "language_info": {
   "name": "python"
  }
 },
 "nbformat": 4,
 "nbformat_minor": 5
}
